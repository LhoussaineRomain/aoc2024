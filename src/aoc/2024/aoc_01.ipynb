{
 "cells": [
  {
   "cell_type": "markdown",
   "metadata": {},
   "source": [
    "# Advent of code : jour 1"
   ]
  },
  {
   "cell_type": "markdown",
   "metadata": {},
   "source": [
    "# 🎄 Jour 1 : L'hystérie de l'historien 🎄\n",
    "\n",
    "L'historien en chef est toujours présent pour le grand lancement du traîneau de Noël, mais personne ne l'a vu depuis des mois ! La dernière fois qu'on a entendu parler de lui, il visitait des lieux historiques importants pour le pôle Nord.  \n",
    "\n",
    "Un groupe d'historiens en chef vous demande de les accompagner pendant qu'ils vérifient les endroits où il aurait pu se rendre.  \n",
    "\n",
    "### Mission :  \n",
    "Ils pensent que l'historien en chef se trouve dans l'un des **50 premiers lieux** à vérifier. Pour sauver Noël, vous devez les aider à obtenir **50 étoiles** sur leur liste avant le départ du Père Noël le 25 décembre.  \n",
    "\n",
    "- **2 énigmes** sont disponibles chaque jour dans ce calendrier de l'Avent.  \n",
    "- Résolvez-les pour récolter des étoiles.  \n",
    "- Chaque énigme résolue rapporte **1 étoile**.  \n",
    "\n",
    "Bonne chance ! 🎅✨  \n",
    "\n",
    "---\n",
    "\n",
    "### Découverte dans le bureau de l'historien en chef  \n",
    "\n",
    "Les historiens ont décidé de commencer par fouiller le bureau de l'historien en chef. Là, ils découvrent un ensemble de notes et de listes. Ces listes mentionnent des **identifiants de lieux** importants.  \n",
    "\n",
    "Pour ne rien oublier, les historiens se divisent en **deux groupes**, chacun établissant une liste d'identifiants. Cependant, ces listes sont très différentes !  \n",
    "\n",
    "Pouvez-vous les aider à **réconcilier leurs listes** ?  \n",
    "\n",
    "---\n",
    "\n",
    "### Exemple  \n",
    "\n",
    "#### Listes des identifiants :  \n",
    "\n",
    "Liste de gauche :  \n",
    "```\n",
    "3 4 2 1 3 3\n",
    "```\n",
    "\n",
    "Liste de droite :  \n",
    "```\n",
    "4 3 5 3 9 3\n",
    "```\n",
    "\n",
    "#### Étapes pour comparer les listes :  \n",
    "\n",
    "1. Associez les **nombres dans l'ordre croissant**.  \n",
    "   - Associez le plus petit nombre de la liste de gauche avec le plus petit de la liste de droite, le deuxième plus petit avec le deuxième plus petit, etc.  \n",
    "2. Calculez la **distance absolue** entre chaque paire.  \n",
    "   - Exemple : Si vous associez `3` (gauche) et `7` (droite), la distance est `4`.  \n",
    "\n",
    "---\n",
    "\n",
    "#### Détail des calculs :  \n",
    "\n",
    "Paires associées et distances :  \n",
    "| **Liste gauche** | **Liste droite** | **Distance** |  \n",
    "|-------------------|-------------------|--------------|  \n",
    "| 1                 | 3                 | 2            |  \n",
    "| 2                 | 3                 | 1            |  \n",
    "| 3                 | 3                 | 0            |  \n",
    "| 3                 | 4                 | 1            |  \n",
    "| 3                 | 5                 | 2            |  \n",
    "| 4                 | 9                 | 5            |  \n",
    "\n",
    "**Distance totale :**  \n",
    "\\( 2 + 1 + 0 + 1 + 2 + 5 = 11 \\)  \n",
    "\n",
    "---\n",
    "\n",
    "### Objectif  \n",
    "\n",
    "Calculez la **distance totale** entre vos deux listes.  \n",
    "\n",
    "---"
   ]
  },
  {
   "cell_type": "markdown",
   "metadata": {},
   "source": [
    "## Solution Partie 1"
   ]
  },
  {
   "cell_type": "code",
   "execution_count": null,
   "metadata": {},
   "outputs": [],
   "source": [
    "import pandas as pd"
   ]
  },
  {
   "cell_type": "code",
   "execution_count": null,
   "metadata": {},
   "outputs": [],
   "source": [
    "import numpy as np"
   ]
  },
  {
   "cell_type": "code",
   "execution_count": null,
   "metadata": {},
   "outputs": [],
   "source": [
    "input = pd.read_table('/home/lbbromain/devel/aoc2024/tests/aoc/input_01.txt',sep=' ', header=None).dropna(axis=1)\n",
    "input.columns = ['c1','c2']"
   ]
  },
  {
   "cell_type": "markdown",
   "metadata": {},
   "source": [
    "## Solution"
   ]
  },
  {
   "cell_type": "code",
   "execution_count": null,
   "metadata": {},
   "outputs": [],
   "source": [
    "c1 = input[\"c1\"].to_numpy()\n",
    "c2 = input[\"c2\"].to_numpy()"
   ]
  },
  {
   "cell_type": "code",
   "execution_count": null,
   "metadata": {},
   "outputs": [],
   "source": [
    "c1 = np.sort(c1)\n",
    "c2 = np.sort(c2)"
   ]
  },
  {
   "cell_type": "code",
   "execution_count": null,
   "metadata": {},
   "outputs": [],
   "source": [
    "total = 0\n",
    "for x, y in zip(c1, c2):\n",
    "    total += abs(x-y)"
   ]
  },
  {
   "cell_type": "code",
   "execution_count": null,
   "metadata": {},
   "outputs": [],
   "source": [
    "print(total)"
   ]
  },
  {
   "cell_type": "markdown",
   "metadata": {},
   "source": [
    "## Solution Partie 2"
   ]
  },
  {
   "cell_type": "markdown",
   "metadata": {},
   "source": [
    "# 🎄 Part Two : Analyse approfondie 🎄  \n",
    "\n",
    "Votre première analyse a confirmé les craintes : les deux listes d’identifiants de lieux semblent très différentes.  \n",
    "\n",
    "**Mais sont-elles vraiment ?**  \n",
    "\n",
    "Les historiens n’arrivent pas à se mettre d’accord sur quelle équipe a fait des erreurs, ni sur la manière de lire l’écriture parfois difficile du chef historien.  \n",
    "\n",
    "Cependant, un détail vous saute aux yeux : **de nombreux identifiants apparaissent dans les deux listes** ! Peut-être que les autres chiffres ne sont pas des identifiants mais des erreurs de transcription.  \n",
    "\n",
    "---\n",
    "\n",
    "## Mission  \n",
    "\n",
    "Cette fois, vous devez calculer un **score de similarité**.  \n",
    "\n",
    "- Pour chaque nombre dans la liste de gauche, comptez combien de fois il apparaît dans la liste de droite.  \n",
    "- Multipliez ce nombre par le nombre d'occurrences dans la liste de droite, puis additionnez tous ces produits.  \n",
    "\n",
    "---\n",
    "\n",
    "### Exemple  \n",
    "\n",
    "#### Listes d'identifiants :  \n",
    "\n",
    "Liste de gauche :  \n",
    "```\n",
    "3 4 2 1 3 3\n",
    "```\n",
    "\n",
    "Liste de droite :  \n",
    "```\n",
    "4 3 5 3 9 3\n",
    "```\n",
    "\n",
    "#### Calcul du score de similarité :  \n",
    "\n",
    "1. **Nombre 3**  \n",
    "   - Il apparaît **3 fois** dans la liste de droite.  \n",
    "   - Contribution au score : \\( 3 \\times 3 = 9 \\).  \n",
    "\n",
    "2. **Nombre 4**  \n",
    "   - Il apparaît **1 fois** dans la liste de droite.  \n",
    "   - Contribution au score : \\( 4 \\times 1 = 4 \\).  \n",
    "\n",
    "3. **Nombre 2**  \n",
    "   - Il n’apparaît pas dans la liste de droite.  \n",
    "   - Contribution au score : \\( 2 \\times 0 = 0 \\).  \n",
    "\n",
    "4. **Nombre 1**  \n",
    "   - Il n’apparaît pas dans la liste de droite.  \n",
    "   - Contribution au score : \\( 1 \\times 0 = 0 \\).  \n",
    "\n",
    "5. **Nombre 3 (répété)**  \n",
    "   - Chaque occurrence dans la liste de gauche est traitée indépendamment.  \n",
    "   - Contribution au score (deux fois) : \\( 3 \\times 3 = 9 \\), puis encore \\( 3 \\times 3 = 9 \\).  \n",
    "\n",
    "---\n",
    "\n",
    "#### Résultat final :  \n",
    "\n",
    "Score total :  \n",
    "\\[ 9 + 4 + 0 + 0 + 9 + 9 = 31 \\]  \n",
    "\n",
    "---\n",
    "\n",
    "## Objectif  \n",
    "\n",
    "Calculez le **score de similarité** pour vos listes de gauche et de droite.  "
   ]
  },
  {
   "cell_type": "code",
   "execution_count": null,
   "metadata": {},
   "outputs": [],
   "source": [
    "sim = 0\n",
    "for i in c1 :\n",
    "    cpt=0\n",
    "    for j in c2 :\n",
    "        if i == j :\n",
    "            cpt +=1\n",
    "    sim += i*cpt"
   ]
  },
  {
   "cell_type": "code",
   "execution_count": null,
   "metadata": {},
   "outputs": [],
   "source": [
    "print(sim)"
   ]
  },
  {
   "cell_type": "code",
   "execution_count": null,
   "metadata": {},
   "outputs": [],
   "source": []
  }
 ],
 "metadata": {
  "kernelspec": {
   "display_name": "base",
   "language": "python",
   "name": "python3"
  },
  "language_info": {
   "codemirror_mode": {
    "name": "ipython",
    "version": 3
   },
   "file_extension": ".py",
   "mimetype": "text/x-python",
   "name": "python",
   "nbconvert_exporter": "python",
   "pygments_lexer": "ipython3",
   "version": "3.12.7"
  }
 },
 "nbformat": 4,
 "nbformat_minor": 2
}
